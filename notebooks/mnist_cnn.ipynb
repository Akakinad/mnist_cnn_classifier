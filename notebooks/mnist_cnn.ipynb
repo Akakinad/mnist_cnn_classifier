{
 "cells": [
  {
   "cell_type": "code",
   "execution_count": 1,
   "metadata": {},
   "outputs": [],
   "source": [
    "# Step 1: Load Required Libraries\n",
    "import numpy as np\n",
    "import matplotlib.pyplot as plt\n",
    "import seaborn as sns\n",
    "\n",
    "from tensorflow import keras\n",
    "from keras.datasets import mnist\n",
    "from keras.models import Sequential\n",
    "from keras.layers import Conv2D, MaxPooling2D, Flatten, Dense, Dropout\n",
    "from keras.utils import to_categorical\n",
    "from keras.callbacks import EarlyStopping\n",
    "from sklearn.metrics import confusion_matrix"
   ]
  },
  {
   "cell_type": "markdown",
   "metadata": {},
   "source": [
    "Explanation: In this step, I imported all the essential libraries and modules for building, training, evaluating, and visualizing a CNN model using the MNIST dataset:\n",
    "\n",
    "numpy is used for efficient numerical and matrix operations.\n",
    "\n",
    "matplotlib.pyplot and seaborn help with visualizing sample images, training metrics, and performance analysis (like confusion matrices).\n",
    "\n",
    "tensorflow.keras is used to load the dataset and construct a CNN with layers like Conv2D, MaxPooling2D, and Dense.\n",
    "\n",
    "to_categorical is used to one-hot encode the labels, a requirement for multi-class classification.\n",
    "\n",
    "EarlyStopping prevents overfitting by stopping training early if validation performance doesn't improve.\n",
    "\n",
    "confusion_matrix from sklearn helps assess how well the model is performing across all digit classes."
   ]
  },
  {
   "cell_type": "code",
   "execution_count": 3,
   "metadata": {},
   "outputs": [],
   "source": [
    "# Step 2: Load and Preprocess the MNIST Dataset\n",
    "(train_images, train_labels), (test_images, test_labels) = mnist.load_data()"
   ]
  },
  {
   "cell_type": "markdown",
   "metadata": {},
   "source": [
    "In this step, I loaded the MNIST dataset directly from Keras. This dataset contains 70,000 grayscale images of handwritten digits (0 through 9), each of size 28x28 pixels:\n",
    "\n",
    "train_images and train_labels contain 60,000 samples used for training and validation.\n",
    "\n",
    "test_images and test_labels contain 10,000 samples used for final model evaluation.\n",
    "\n",
    "Loading it this way saves time because Keras automatically downloads and formats the dataset for us."
   ]
  },
  {
   "cell_type": "code",
   "execution_count": 4,
   "metadata": {},
   "outputs": [
    {
     "data": {
      "image/png": "[encoded data removed]",
      "text/plain": [
       "<Figure size 1000x500 with 10 Axes>"
      ]
     },
     "metadata": {},
     "output_type": "display_data"
    }
   ],
   "source": [
    "# Step 3: Visualize 10 sample images from the training set\n",
    "plt.figure(figsize=(10, 5))  # Size of the entire figure\n",
    "\n",
    "for i in range(10):\n",
    "    plt.subplot(2, 5, i + 1)  # 2 rows, 5 columns, current index\n",
    "    plt.imshow(train_images[i].reshape(28, 28), cmap='gray')  # Ensure correct shape\n",
    "    plt.title(f\"Label: {train_labels[i]}\")\n",
    "    plt.axis('off')  # Remove axis ticks\n",
    "\n",
    "plt.tight_layout()  # Adjust spacing\n",
    "plt.show()"
   ]
  },
  {
   "cell_type": "markdown",
   "metadata": {},
   "source": [
    "Before preprocessing or training, it's important to visually inspect a few samples to understand what the model will be learning from.\n",
    "\n",
    "This plots the first 10 images in a 2x5 grid.\n",
    "\n",
    "Each image is reshaped to ensure it's in 2D format (28×28) and shown in grayscale.\n",
    "\n",
    "I display the true label of each image to confirm that the data and labels are correctly paired.\n",
    "\n",
    "This step helps us validate dataset integrity and builds intuition about the classification task."
   ]
  },
  {
   "cell_type": "code",
   "execution_count": 5,
   "metadata": {},
   "outputs": [],
   "source": [
    "# Step 4:  Normalize pixel values to range [0, 1]\n",
    "train_images = train_images / 255.0\n",
    "test_images = test_images / 255.0"
   ]
  },
  {
   "cell_type": "markdown",
   "metadata": {},
   "source": [
    "The original MNIST images contain pixel values ranging from 0 to 255 (uint8 format). To improve model performance and training stability:\n",
    "\n",
    "We scale these values to a range between 0 and 1 by dividing by 255.\n",
    "\n",
    "Neural networks converge faster and more reliably when input features are normalized.\n",
    "\n",
    "This also helps avoid issues like exploding or vanishing gradients.\n",
    "\n",
    "This is a standard preprocessing step in most image-based deep learning tasks."
   ]
  },
  {
   "cell_type": "code",
   "execution_count": 6,
   "metadata": {},
   "outputs": [],
   "source": [
    "# Step 5: Reshape to include channel dimension (28, 28, 1)\n",
    "train_images = train_images.reshape((-1, 28, 28, 1))\n",
    "test_images = test_images.reshape((-1, 28, 28, 1))"
   ]
  },
  {
   "cell_type": "markdown",
   "metadata": {},
   "source": [
    "MNIST images are grayscale with shape (28, 28).\n",
    "\n",
    "However, Convolutional Neural Networks (CNNs) in Keras expect 4D input: (batch_size, height, width, channels).\n",
    "\n",
    "By reshaping to (28, 28, 1), we explicitly specify the single channel (grayscale), which is required for convolutional layers to process the images correctly.\n",
    "\n",
    "-1 lets NumPy automatically calculate the batch size based on the original array.\n",
    "\n",
    "This step ensures the data is in the right shape for our CNN model."
   ]
  },
  {
   "cell_type": "code",
   "execution_count": 7,
   "metadata": {},
   "outputs": [],
   "source": [
    "# Step 6: Split training data into train and validation sets (90%/10%)\n",
    "validation_cutoff = int(train_images.shape[0] * 0.9)\n",
    "img_train = train_images[:validation_cutoff]\n",
    "img_valid = train_images[validation_cutoff:]\n",
    "lbl_train = train_labels[:validation_cutoff]\n",
    "lbl_valid = train_labels[validation_cutoff:]\n",
    "img_test = test_images.copy()\n",
    "lbl_test = test_labels.copy()"
   ]
  },
  {
   "cell_type": "markdown",
   "metadata": {},
   "source": [
    "I manually split the training dataset into:\n",
    "\n",
    "90% for training the model (img_train, lbl_train)\n",
    "\n",
    "10% for validation during training (img_valid, lbl_valid)\n",
    "\n",
    "Validation data helps us monitor performance on unseen data and detect overfitting during training.\n",
    "\n",
    "The test set (img_test, lbl_test) remains untouched and is only used for final evaluation after training.\n",
    "\n",
    "This approach ensures a robust training pipeline by validating model performance while keeping the test data truly unseen."
   ]
  },
  {
   "cell_type": "code",
   "execution_count": 8,
   "metadata": {},
   "outputs": [],
   "source": [
    "# Step 7: One-hot encode the labels\n",
    "lbl_train = to_categorical(lbl_train, 10)\n",
    "lbl_valid = to_categorical(lbl_valid, 10)\n",
    "lbl_test = to_categorical(lbl_test, 10)"
   ]
  },
  {
   "cell_type": "markdown",
   "metadata": {},
   "source": [
    "The MNIST labels are originally single integers from 0 to 9, representing the digit in the image.\n",
    "\n",
    "One-hot encoding converts these into binary vectors with 10 positions (one for each digit).\n",
    "\n",
    "Example: Label 3 → [0, 0, 0, 1, 0, 0, 0, 0, 0, 0]\n",
    "\n",
    "This format is required for categorical classification using the categorical_crossentropy loss function.\n",
    "\n",
    "By doing this, we align our labels with the output of the neural network, which will predict probabilities across the 10 digit classes."
   ]
  },
  {
   "cell_type": "code",
   "execution_count": 9,
   "metadata": {},
   "outputs": [
    {
     "name": "stderr",
     "output_type": "stream",
     "text": [
      "/Users/akinsholaakinade/Desktop/mnist_cnn_classifier/venv/lib/python3.11/site-packages/keras/src/layers/convolutional/base_conv.py:107: UserWarning: Do not pass an `input_shape`/`input_dim` argument to a layer. When using Sequential models, prefer using an `Input(shape)` object as the first layer in the model instead.\n",
      "  super().__init__(activity_regularizer=activity_regularizer, **kwargs)\n",
      "2025-05-14 08:37:38.526899: I metal_plugin/src/device/metal_device.cc:1154] Metal device set to: Apple M2\n",
      "2025-05-14 08:37:38.527513: I metal_plugin/src/device/metal_device.cc:296] systemMemory: 8.00 GB\n",
      "2025-05-14 08:37:38.528017: I metal_plugin/src/device/metal_device.cc:313] maxCacheSize: 2.67 GB\n",
      "2025-05-14 08:37:38.528644: I tensorflow/core/common_runtime/pluggable_device/pluggable_device_factory.cc:305] Could not identify NUMA node of platform GPU ID 0, defaulting to 0. Your kernel may not have been built with NUMA support.\n",
      "2025-05-14 08:37:38.529131: I tensorflow/core/common_runtime/pluggable_device/pluggable_device_factory.cc:271] Created TensorFlow device (/job:localhost/replica:0/task:0/device:GPU:0 with 0 MB memory) -> physical PluggableDevice (device: 0, name: METAL, pci bus id: <undefined>)\n"
     ]
    }
   ],
   "source": [
    "# Step 8: Build the CNN Model\n",
    "model = Sequential([\n",
    "    Conv2D(32, kernel_size=(3, 3), activation='relu', input_shape=(28, 28, 1)),\n",
    "    MaxPooling2D(pool_size=(2, 2)),\n",
    "    Dropout(0.25),  # Add dropout after first convolution block\n",
    "    Conv2D(64, kernel_size=(3, 3), activation='relu'),\n",
    "    MaxPooling2D(pool_size=(2, 2)),\n",
    "    Dropout(0.25),  # Add dropout after second convolution block\n",
    "    Flatten(),\n",
    "    Dense(128, activation='relu'),\n",
    "    Dropout(0.5),\n",
    "    Dense(10, activation='softmax')\n",
    "])"
   ]
  },
  {
   "cell_type": "markdown",
   "metadata": {},
   "source": [
    "Building the Convolutional Neural Network (CNN):\n",
    "\n",
    "Conv2D: This layer applies convolutional filters to the input image.\n",
    "\n",
    "32 filters of size (3, 3) are used in the first layer to extract low-level features (edges, shapes).\n",
    "\n",
    "64 filters are applied in the second convolution layer to capture more complex patterns.\n",
    "\n",
    "ReLU activation introduces non-linearity to help the model learn complex relationships.\n",
    "\n",
    "MaxPooling2D: This layer reduces the spatial dimensions of the image while retaining important information.\n",
    "\n",
    "Pooling reduces computational complexity and helps prevent overfitting by providing spatial invariance (detecting patterns in different parts of the image).\n",
    "\n",
    "Flatten: The 2D matrix output from the convolutional layers is \"flattened\" into a 1D vector, making it suitable for fully connected layers.\n",
    "\n",
    "Dense: This is a fully connected layer:\n",
    "\n",
    "128 neurons with ReLU activation help the model learn complex patterns from the features extracted by the convolutional layers.\n",
    "\n",
    "Dropout: A dropout layer with a rate of 0.5 randomly disables 50% of neurons during training, which reduces overfitting.\n",
    "\n",
    "Final Dense Layer: The last layer has 10 neurons corresponding to the 10 classes (digits 0–9), with a softmax activation to output class probabilities.\n",
    "\n",
    "Softmax ensures the output is a valid probability distribution across the 10 classes."
   ]
  },
  {
   "cell_type": "code",
   "execution_count": 10,
   "metadata": {},
   "outputs": [
    {
     "data": {
      "text/html": [
       "<pre style=\"white-space:pre;overflow-x:auto;line-height:normal;font-family:Menlo,'DejaVu Sans Mono',consolas,'Courier New',monospace\"><span style=\"font-weight: bold\">Model: \"sequential\"</span>\n",
       "</pre>\n"
      ],
      "text/plain": [
       "\u001b[1mModel: \"sequential\"\u001b[0m\n"
      ]
     },
     "metadata": {},
     "output_type": "display_data"
    },
    {
     "data": {
      "text/html": [
       "<pre style=\"white-space:pre;overflow-x:auto;line-height:normal;font-family:Menlo,'DejaVu Sans Mono',consolas,'Courier New',monospace\">┏━━━━━━━━━━━━━━━━━━━━━━━━━━━━━━━━━┳━━━━━━━━━━━━━━━━━━━━━━━━┳━━━━━━━━━━━━━━━┓\n",
       "┃<span style=\"font-weight: bold\"> Layer (type)                    </span>┃<span style=\"font-weight: bold\"> Output Shape           </span>┃<span style=\"font-weight: bold\">       Param # </span>┃\n",
       "┡━━━━━━━━━━━━━━━━━━━━━━━━━━━━━━━━━╇━━━━━━━━━━━━━━━━━━━━━━━━╇━━━━━━━━━━━━━━━┩\n",
       "│ conv2d (<span style=\"color: #0087ff; text-decoration-color: #0087ff\">Conv2D</span>)                 │ (<span style=\"color: #00d7ff; text-decoration-color: #00d7ff\">None</span>, <span style=\"color: #00af00; text-decoration-color: #00af00\">26</span>, <span style=\"color: #00af00; text-decoration-color: #00af00\">26</span>, <span style=\"color: #00af00; text-decoration-color: #00af00\">32</span>)     │           <span style=\"color: #00af00; text-decoration-color: #00af00\">320</span> │\n",
       "├─────────────────────────────────┼────────────────────────┼───────────────┤\n",
       "│ max_pooling2d (<span style=\"color: #0087ff; text-decoration-color: #0087ff\">MaxPooling2D</span>)    │ (<span style=\"color: #00d7ff; text-decoration-color: #00d7ff\">None</span>, <span style=\"color: #00af00; text-decoration-color: #00af00\">13</span>, <span style=\"color: #00af00; text-decoration-color: #00af00\">13</span>, <span style=\"color: #00af00; text-decoration-color: #00af00\">32</span>)     │             <span style=\"color: #00af00; text-decoration-color: #00af00\">0</span> │\n",
       "├─────────────────────────────────┼────────────────────────┼───────────────┤\n",
       "│ dropout (<span style=\"color: #0087ff; text-decoration-color: #0087ff\">Dropout</span>)               │ (<span style=\"color: #00d7ff; text-decoration-color: #00d7ff\">None</span>, <span style=\"color: #00af00; text-decoration-color: #00af00\">13</span>, <span style=\"color: #00af00; text-decoration-color: #00af00\">13</span>, <span style=\"color: #00af00; text-decoration-color: #00af00\">32</span>)     │             <span style=\"color: #00af00; text-decoration-color: #00af00\">0</span> │\n",
       "├─────────────────────────────────┼────────────────────────┼───────────────┤\n",
       "│ conv2d_1 (<span style=\"color: #0087ff; text-decoration-color: #0087ff\">Conv2D</span>)               │ (<span style=\"color: #00d7ff; text-decoration-color: #00d7ff\">None</span>, <span style=\"color: #00af00; text-decoration-color: #00af00\">11</span>, <span style=\"color: #00af00; text-decoration-color: #00af00\">11</span>, <span style=\"color: #00af00; text-decoration-color: #00af00\">64</span>)     │        <span style=\"color: #00af00; text-decoration-color: #00af00\">18,496</span> │\n",
       "├─────────────────────────────────┼────────────────────────┼───────────────┤\n",
       "│ max_pooling2d_1 (<span style=\"color: #0087ff; text-decoration-color: #0087ff\">MaxPooling2D</span>)  │ (<span style=\"color: #00d7ff; text-decoration-color: #00d7ff\">None</span>, <span style=\"color: #00af00; text-decoration-color: #00af00\">5</span>, <span style=\"color: #00af00; text-decoration-color: #00af00\">5</span>, <span style=\"color: #00af00; text-decoration-color: #00af00\">64</span>)       │             <span style=\"color: #00af00; text-decoration-color: #00af00\">0</span> │\n",
       "├─────────────────────────────────┼────────────────────────┼───────────────┤\n",
       "│ dropout_1 (<span style=\"color: #0087ff; text-decoration-color: #0087ff\">Dropout</span>)             │ (<span style=\"color: #00d7ff; text-decoration-color: #00d7ff\">None</span>, <span style=\"color: #00af00; text-decoration-color: #00af00\">5</span>, <span style=\"color: #00af00; text-decoration-color: #00af00\">5</span>, <span style=\"color: #00af00; text-decoration-color: #00af00\">64</span>)       │             <span style=\"color: #00af00; text-decoration-color: #00af00\">0</span> │\n",
       "├─────────────────────────────────┼────────────────────────┼───────────────┤\n",
       "│ flatten (<span style=\"color: #0087ff; text-decoration-color: #0087ff\">Flatten</span>)               │ (<span style=\"color: #00d7ff; text-decoration-color: #00d7ff\">None</span>, <span style=\"color: #00af00; text-decoration-color: #00af00\">1600</span>)           │             <span style=\"color: #00af00; text-decoration-color: #00af00\">0</span> │\n",
       "├─────────────────────────────────┼────────────────────────┼───────────────┤\n",
       "│ dense (<span style=\"color: #0087ff; text-decoration-color: #0087ff\">Dense</span>)                   │ (<span style=\"color: #00d7ff; text-decoration-color: #00d7ff\">None</span>, <span style=\"color: #00af00; text-decoration-color: #00af00\">128</span>)            │       <span style=\"color: #00af00; text-decoration-color: #00af00\">204,928</span> │\n",
       "├─────────────────────────────────┼────────────────────────┼───────────────┤\n",
       "│ dropout_2 (<span style=\"color: #0087ff; text-decoration-color: #0087ff\">Dropout</span>)             │ (<span style=\"color: #00d7ff; text-decoration-color: #00d7ff\">None</span>, <span style=\"color: #00af00; text-decoration-color: #00af00\">128</span>)            │             <span style=\"color: #00af00; text-decoration-color: #00af00\">0</span> │\n",
       "├─────────────────────────────────┼────────────────────────┼───────────────┤\n",
       "│ dense_1 (<span style=\"color: #0087ff; text-decoration-color: #0087ff\">Dense</span>)                 │ (<span style=\"color: #00d7ff; text-decoration-color: #00d7ff\">None</span>, <span style=\"color: #00af00; text-decoration-color: #00af00\">10</span>)             │         <span style=\"color: #00af00; text-decoration-color: #00af00\">1,290</span> │\n",
       "└─────────────────────────────────┴────────────────────────┴───────────────┘\n",
       "</pre>\n"
      ],
      "text/plain": [
       "┏━━━━━━━━━━━━━━━━━━━━━━━━━━━━━━━━━┳━━━━━━━━━━━━━━━━━━━━━━━━┳━━━━━━━━━━━━━━━┓\n",
       "┃\u001b[1m \u001b[0m\u001b[1mLayer (type)                   \u001b[0m\u001b[1m \u001b[0m┃\u001b[1m \u001b[0m\u001b[1mOutput Shape          \u001b[0m\u001b[1m \u001b[0m┃\u001b[1m \u001b[0m\u001b[1m      Param #\u001b[0m\u001b[1m \u001b[0m┃\n",
       "┡━━━━━━━━━━━━━━━━━━━━━━━━━━━━━━━━━╇━━━━━━━━━━━━━━━━━━━━━━━━╇━━━━━━━━━━━━━━━┩\n",
       "│ conv2d (\u001b[38;5;33mConv2D\u001b[0m)                 │ (\u001b[38;5;45mNone\u001b[0m, \u001b[38;5;34m26\u001b[0m, \u001b[38;5;34m26\u001b[0m, \u001b[38;5;34m32\u001b[0m)     │           \u001b[38;5;34m320\u001b[0m │\n",
       "├─────────────────────────────────┼────────────────────────┼───────────────┤\n",
       "│ max_pooling2d (\u001b[38;5;33mMaxPooling2D\u001b[0m)    │ (\u001b[38;5;45mNone\u001b[0m, \u001b[38;5;34m13\u001b[0m, \u001b[38;5;34m13\u001b[0m, \u001b[38;5;34m32\u001b[0m)     │             \u001b[38;5;34m0\u001b[0m │\n",
       "├─────────────────────────────────┼────────────────────────┼───────────────┤\n",
       "│ dropout (\u001b[38;5;33mDropout\u001b[0m)               │ (\u001b[38;5;45mNone\u001b[0m, \u001b[38;5;34m13\u001b[0m, \u001b[38;5;34m13\u001b[0m, \u001b[38;5;34m32\u001b[0m)     │             \u001b[38;5;34m0\u001b[0m │\n",
       "├─────────────────────────────────┼────────────────────────┼───────────────┤\n",
       "│ conv2d_1 (\u001b[38;5;33mConv2D\u001b[0m)               │ (\u001b[38;5;45mNone\u001b[0m, \u001b[38;5;34m11\u001b[0m, \u001b[38;5;34m11\u001b[0m, \u001b[38;5;34m64\u001b[0m)     │        \u001b[38;5;34m18,496\u001b[0m │\n",
       "├─────────────────────────────────┼────────────────────────┼───────────────┤\n",
       "│ max_pooling2d_1 (\u001b[38;5;33mMaxPooling2D\u001b[0m)  │ (\u001b[38;5;45mNone\u001b[0m, \u001b[38;5;34m5\u001b[0m, \u001b[38;5;34m5\u001b[0m, \u001b[38;5;34m64\u001b[0m)       │             \u001b[38;5;34m0\u001b[0m │\n",
       "├─────────────────────────────────┼────────────────────────┼───────────────┤\n",
       "│ dropout_1 (\u001b[38;5;33mDropout\u001b[0m)             │ (\u001b[38;5;45mNone\u001b[0m, \u001b[38;5;34m5\u001b[0m, \u001b[38;5;34m5\u001b[0m, \u001b[38;5;34m64\u001b[0m)       │             \u001b[38;5;34m0\u001b[0m │\n",
       "├─────────────────────────────────┼────────────────────────┼───────────────┤\n",
       "│ flatten (\u001b[38;5;33mFlatten\u001b[0m)               │ (\u001b[38;5;45mNone\u001b[0m, \u001b[38;5;34m1600\u001b[0m)           │             \u001b[38;5;34m0\u001b[0m │\n",
       "├─────────────────────────────────┼────────────────────────┼───────────────┤\n",
       "│ dense (\u001b[38;5;33mDense\u001b[0m)                   │ (\u001b[38;5;45mNone\u001b[0m, \u001b[38;5;34m128\u001b[0m)            │       \u001b[38;5;34m204,928\u001b[0m │\n",
       "├─────────────────────────────────┼────────────────────────┼───────────────┤\n",
       "│ dropout_2 (\u001b[38;5;33mDropout\u001b[0m)             │ (\u001b[38;5;45mNone\u001b[0m, \u001b[38;5;34m128\u001b[0m)            │             \u001b[38;5;34m0\u001b[0m │\n",
       "├─────────────────────────────────┼────────────────────────┼───────────────┤\n",
       "│ dense_1 (\u001b[38;5;33mDense\u001b[0m)                 │ (\u001b[38;5;45mNone\u001b[0m, \u001b[38;5;34m10\u001b[0m)             │         \u001b[38;5;34m1,290\u001b[0m │\n",
       "└─────────────────────────────────┴────────────────────────┴───────────────┘\n"
      ]
     },
     "metadata": {},
     "output_type": "display_data"
    },
    {
     "data": {
      "text/html": [
       "<pre style=\"white-space:pre;overflow-x:auto;line-height:normal;font-family:Menlo,'DejaVu Sans Mono',consolas,'Courier New',monospace\"><span style=\"font-weight: bold\"> Total params: </span><span style=\"color: #00af00; text-decoration-color: #00af00\">225,034</span> (879.04 KB)\n",
       "</pre>\n"
      ],
      "text/plain": [
       "\u001b[1m Total params: \u001b[0m\u001b[38;5;34m225,034\u001b[0m (879.04 KB)\n"
      ]
     },
     "metadata": {},
     "output_type": "display_data"
    },
    {
     "data": {
      "text/html": [
       "<pre style=\"white-space:pre;overflow-x:auto;line-height:normal;font-family:Menlo,'DejaVu Sans Mono',consolas,'Courier New',monospace\"><span style=\"font-weight: bold\"> Trainable params: </span><span style=\"color: #00af00; text-decoration-color: #00af00\">225,034</span> (879.04 KB)\n",
       "</pre>\n"
      ],
      "text/plain": [
       "\u001b[1m Trainable params: \u001b[0m\u001b[38;5;34m225,034\u001b[0m (879.04 KB)\n"
      ]
     },
     "metadata": {},
     "output_type": "display_data"
    },
    {
     "data": {
      "text/html": [
       "<pre style=\"white-space:pre;overflow-x:auto;line-height:normal;font-family:Menlo,'DejaVu Sans Mono',consolas,'Courier New',monospace\"><span style=\"font-weight: bold\"> Non-trainable params: </span><span style=\"color: #00af00; text-decoration-color: #00af00\">0</span> (0.00 B)\n",
       "</pre>\n"
      ],
      "text/plain": [
       "\u001b[1m Non-trainable params: \u001b[0m\u001b[38;5;34m0\u001b[0m (0.00 B)\n"
      ]
     },
     "metadata": {},
     "output_type": "display_data"
    }
   ],
   "source": [
    "# Step 9: Show the model architecture\n",
    "model.summary()"
   ]
  },
  {
   "cell_type": "markdown",
   "metadata": {},
   "source": [
    "model.summary():\n",
    "\n",
    "This command prints out a summary of the CNN architecture you have built. It provides a detailed view of:\n",
    "\n",
    "Layer Types: Each layer used (e.g., Conv2D, MaxPooling2D, Dense, etc.).\n",
    "\n",
    "Output Shapes: The shape of the output at each layer, showing how the image or feature map changes as it passes through the network.\n",
    "\n",
    "Number of Parameters: The number of trainable parameters in each layer. This is important to gauge the complexity and the number of weights the model will learn during training.\n",
    "\n",
    "Total Parameters: The overall count of trainable parameters in the entire model, which tells you how complex the model is.\n",
    "\n",
    "This command helps you ensure that the architecture is built as intended, and also gives you insights into the number of parameters, which is useful for understanding the model’s capacity."
   ]
  },
  {
   "cell_type": "code",
   "execution_count": 11,
   "metadata": {},
   "outputs": [],
   "source": [
    "# Step 10: Compile the Model\n",
    "model.compile(optimizer='adam',\n",
    "              loss='categorical_crossentropy',\n",
    "              metrics=['accuracy'])"
   ]
  },
  {
   "cell_type": "markdown",
   "metadata": {},
   "source": [
    "model.compile():\n",
    "\n",
    "This step configures the model for training by specifying:\n",
    "\n",
    "Optimizer: The optimization algorithm that will update the model weights during training.\n",
    "\n",
    "'adam' is a popular optimizer that adapts the learning rate based on the gradient of the loss function. It's widely used because it works well for many problems.\n",
    "\n",
    "Loss Function: This determines how well the model's predictions match the true labels. For a classification task like MNIST (multi-class classification), we use categorical_crossentropy.\n",
    "\n",
    "This loss function calculates the difference between the true labels (in one-hot encoded form) and the predicted probabilities of the classes.\n",
    "\n",
    "Metrics: Metrics help to evaluate the performance of the model. 'accuracy' is used here, which measures the proportion of correct predictions.\n",
    "\n",
    "Why this is important: The optimizer controls how the model learns. Adam is efficient for training deep learning models and often performs well with little tuning.\n",
    "\n",
    "The loss function ensures that the model minimizes the error in predicting the class probabilities.\n",
    "\n",
    "Accuracy is a straightforward and widely-used metric to evaluate how well the model performs in classification tasks.\n",
    "\n",
    "This step prepares the model for training, where the actual learning will begin once you start fitting the model on data\n",
    "\n"
   ]
  },
  {
   "cell_type": "code",
   "execution_count": 12,
   "metadata": {},
   "outputs": [],
   "source": [
    "# Step 11: Define EarlyStopping\n",
    "early_stop = EarlyStopping(monitor='val_loss', patience=3, restore_best_weights=True)"
   ]
  },
  {
   "cell_type": "markdown",
   "metadata": {},
   "source": [
    "EarlyStopping is a technique used to stop the training process before the model overfits. It's a form of regularization that prevents wasting time training the model when it's no longer improving.\n",
    "\n",
    "monitor='val_loss': This means the training will monitor the validation loss. If the validation loss doesn't improve for a set number of epochs, training will stop. This helps prevent overfitting and saves computation time.\n",
    "\n",
    "patience=3: If the validation loss doesn't improve for 3 consecutive epochs, training will be stopped early. If you set this to 0, training will stop as soon as the validation loss doesn’t improve in the current epoch.\n",
    "\n",
    "restore_best_weights=True: This means that the model will revert to the weights from the best epoch (the epoch with the lowest validation loss), even if it stops early. This ensures that you always get the best version of the model, rather than a model that may have started overfitting.\n",
    "\n",
    "Why this is important: EarlyStopping prevents the model from continuing to train once it reaches a point of diminishing returns.\n",
    "\n",
    "It helps to save computational resources and ensures that you don't overtrain and start fitting noise or overfitting to the training data.\n",
    "\n",
    "It improves the model’s generalization by selecting the best performing model on the validation set."
   ]
  },
  {
   "cell_type": "code",
   "execution_count": 13,
   "metadata": {},
   "outputs": [
    {
     "name": "stdout",
     "output_type": "stream",
     "text": [
      "Epoch 1/10\n"
     ]
    },
    {
     "name": "stderr",
     "output_type": "stream",
     "text": [
      "2025-05-14 08:41:41.937980: I tensorflow/core/grappler/optimizers/custom_graph_optimizer_registry.cc:117] Plugin optimizer for device_type GPU is enabled.\n"
     ]
    },
    {
     "name": "stdout",
     "output_type": "stream",
     "text": [
      "\u001b[1m844/844\u001b[0m \u001b[32m━━━━━━━━━━━━━━━━━━━━\u001b[0m\u001b[37m\u001b[0m \u001b[1m17s\u001b[0m 19ms/step - accuracy: 0.7772 - loss: 0.6821 - val_accuracy: 0.9785 - val_loss: 0.0745\n",
      "Epoch 2/10\n",
      "\u001b[1m844/844\u001b[0m \u001b[32m━━━━━━━━━━━━━━━━━━━━\u001b[0m\u001b[37m\u001b[0m \u001b[1m16s\u001b[0m 19ms/step - accuracy: 0.9525 - loss: 0.1713 - val_accuracy: 0.9823 - val_loss: 0.0684\n",
      "Epoch 3/10\n",
      "\u001b[1m844/844\u001b[0m \u001b[32m━━━━━━━━━━━━━━━━━━━━\u001b[0m\u001b[37m\u001b[0m \u001b[1m15s\u001b[0m 18ms/step - accuracy: 0.9557 - loss: 0.1807 - val_accuracy: 0.9868 - val_loss: 0.0648\n",
      "Epoch 4/10\n",
      "\u001b[1m844/844\u001b[0m \u001b[32m━━━━━━━━━━━━━━━━━━━━\u001b[0m\u001b[37m\u001b[0m \u001b[1m16s\u001b[0m 19ms/step - accuracy: 0.9590 - loss: 0.1888 - val_accuracy: 0.9877 - val_loss: 0.0748\n",
      "Epoch 5/10\n",
      "\u001b[1m844/844\u001b[0m \u001b[32m━━━━━━━━━━━━━━━━━━━━\u001b[0m\u001b[37m\u001b[0m \u001b[1m16s\u001b[0m 19ms/step - accuracy: 0.9574 - loss: 0.2297 - val_accuracy: 0.9858 - val_loss: 0.0875\n",
      "Epoch 6/10\n",
      "\u001b[1m844/844\u001b[0m \u001b[32m━━━━━━━━━━━━━━━━━━━━\u001b[0m\u001b[37m\u001b[0m \u001b[1m16s\u001b[0m 19ms/step - accuracy: 0.9621 - loss: 0.2426 - val_accuracy: 0.9837 - val_loss: 0.1318\n"
     ]
    }
   ],
   "source": [
    "# Step 12: Train the Model\n",
    "history = model.fit(img_train, lbl_train,\n",
    "                    epochs=10,\n",
    "                    batch_size=64,\n",
    "                    validation_data=(img_valid, lbl_valid),\n",
    "                    callbacks=[early_stop])"
   ]
  },
  {
   "cell_type": "markdown",
   "metadata": {},
   "source": [
    "This cell initiates the training process for CNN model using the training data (img_train, lbl_train). It trains the model over 10 epochs, with a batch size of 64, and uses a validation set (img_valid, lbl_valid) to monitor performance during training.\n",
    "\n",
    "epochs=10: The model will go through the entire training data 10 times. In practice, the number of epochs is adjusted based on how well the model is learning and if the performance improves or stabilizes.\n",
    "\n",
    "batch_size=64: The training data is divided into batches of 64 samples. After each batch, the model updates its weights. A larger batch size can improve performance but may increase memory consumption, whereas smaller batches may lead to faster but noisier training.\n",
    "\n",
    "validation_data=(img_valid, lbl_valid): This is the validation data used to evaluate the model at the end of each epoch. It helps to check whether the model is overfitting (i.e., performing well on the training data but not on unseen validation data).\n",
    "\n",
    "callbacks=[early_stop]: This adds the EarlyStopping callback defined earlier. If the validation loss doesn't improve for 3 consecutive epochs, the training process will stop early.\n",
    "\n",
    "Why this is important: Model Training: This step involves optimizing the model’s weights so that it minimizes the loss function (cross-entropy in this case) and improves performance on the validation set.\n",
    "\n",
    "Early Stopping: Helps ensure that the model doesn’t overfit and stops training when it reaches its best generalization capability.\n",
    "\n",
    "Validation Set: By using validation data, we ensure that the model’s performance is checked on data it hasn’t seen, which helps track generalization performance.\n",
    "\n",
    "This is the core of the model training. Once training is complete, you can visualize the training history, evaluate the model on test data, and further analyze performance."
   ]
  },
  {
   "cell_type": "code",
   "execution_count": 15,
   "metadata": {},
   "outputs": [
    {
     "name": "stdout",
     "output_type": "stream",
     "text": [
      "\u001b[1m313/313\u001b[0m \u001b[32m━━━━━━━━━━━━━━━━━━━━\u001b[0m\u001b[37m\u001b[0m \u001b[1m2s\u001b[0m 7ms/step - accuracy: 0.9809 - loss: 0.0733\n",
      "\n",
      "Test Loss: 0.0609\n",
      "Test Accuracy: 98.38%\n"
     ]
    }
   ],
   "source": [
    "# Step 13: Evaluate the Model\n",
    "#evaluation = model.evaluate(img_test, lbl_test)\n",
    "#print(evaluation)\n",
    "\n",
    "evaluation = model.evaluate(img_test, lbl_test)\n",
    "# Print Test Loss and Test Accuracy\n",
    "print(f\"\\nTest Loss: {evaluation[0]:.4f}\")\n",
    "print(f\"Test Accuracy: {evaluation[1]*100:.2f}%\")"
   ]
  },
  {
   "cell_type": "markdown",
   "metadata": {},
   "source": [
    "This cell evaluates the trained CNN model on the test set (img_test, lbl_test) to see how well the model performs on unseen data after training.\n",
    "\n",
    "model.evaluate(): This method computes the loss and accuracy on the test dataset. It returns two values:\n",
    "\n",
    "Loss: The value of the loss function (categorical cross-entropy here) calculated on the test set. Lower loss means the model’s predictions are closer to the true values.\n",
    "\n",
    "Accuracy: The percentage of correct predictions made by the model on the test set.\n",
    "\n",
    "print(f\"\\nTest Loss: {evaluation[0]:.4f}\"): Prints the test loss value, formatted to four decimal places.\n",
    "\n",
    "print(f\"Test Accuracy: {evaluation[1]*100:.2f}%\"): Prints the test accuracy as a percentage (multiplied by 100 for clarity).\n",
    "\n",
    "Why this is important: Evaluating on Test Data: It’s essential to test the model on data that it has not seen before (test set). This helps you understand if the model can generalize well to new, unseen data.\n",
    "\n",
    "Loss and Accuracy: These two metrics give us an indication of the model’s performance. The goal is to minimize loss and maximize accuracy.\n",
    "\n",
    "By evaluating the model, you get a quantitative measure of its performance, which you can then compare with other models or use to decide if further tuning is needed.\n",
    "\n",
    "NOTE BOARD:\n",
    "\n",
    "\"In this step, I evaluate the trained model on the test set to determine its performance. The evaluate function provides both loss and accuracy, which allows me to assess how well the model generalizes to new, unseen data. Based on these metrics, I can confidently analyze the model’s effectiveness and identify potential areas for improvement.\""
   ]
  },
  {
   "cell_type": "code",
   "execution_count": 16,
   "metadata": {},
   "outputs": [
    {
     "data": {
      "text/plain": [
       "<matplotlib.legend.Legend at 0x322449890>"
      ]
     },
     "execution_count": 16,
     "metadata": {},
     "output_type": "execute_result"
    },
    {
     "data": {
      "image/png": "[encoded data removed]",
      "text/plain": [
       "<Figure size 1200x400 with 1 Axes>"
      ]
     },
     "metadata": {},
     "output_type": "display_data"
    }
   ],
   "source": [
    "# Step 14: Visualize Training History\n",
    "plt.figure(figsize=(12, 4))\n",
    "plt.subplot(1, 2, 1)\n",
    "plt.plot(history.history['accuracy'], label='Train Acc')\n",
    "plt.plot(history.history['val_accuracy'], label='Val Acc')\n",
    "plt.title('Accuracy over Epochs')\n",
    "plt.xlabel('Epoch')\n",
    "plt.ylabel('Accuracy')\n",
    "plt.legend()"
   ]
  },
  {
   "cell_type": "markdown",
   "metadata": {},
   "source": [
    "This cell is used to plot the training and validation accuracy over the epochs during model training. The purpose of this visualization is to track how well the model is learning and if it’s overfitting.\n",
    "\n",
    "history.history['accuracy']: Tracks the accuracy of the model on the training set during each epoch.\n",
    "\n",
    "history.history['val_accuracy']: Tracks the accuracy of the model on the validation set during each epoch.\n",
    "\n",
    "plt.plot(): Plots these accuracy values for training and validation over the epochs.\n",
    "\n",
    "plt.legend(): Displays a legend to differentiate the lines representing training and validation accuracy.\n",
    "\n",
    "Why this is important: Training vs. Validation Accuracy: By comparing the training and validation accuracy, you can identify whether your model is overfitting. If the training accuracy keeps increasing while validation accuracy plateaus or decreases, it suggests overfitting.\n",
    "\n",
    "Epochs: By observing how accuracy evolves over epochs, you can tell if your model is learning effectively or if it’s plateauing too early (in which case, you might need to adjust hyperparameters or the model architecture).\n",
    "\n",
    "NOTE BOARD:\n",
    "\n",
    "\"In this step, I visualize the accuracy of both the training and validation datasets over multiple epochs. This plot allows me to monitor the model’s progress during training and ensure that it is not overfitting. A good model will have a steady improvement in both training and validation accuracy.\""
   ]
  },
  {
   "cell_type": "code",
   "execution_count": 17,
   "metadata": {},
   "outputs": [
    {
     "data": {
      "image/png": "[encoded data removed]",
      "text/plain": [
       "<Figure size 640x480 with 1 Axes>"
      ]
     },
     "metadata": {},
     "output_type": "display_data"
    }
   ],
   "source": [
    "# Step 15: Visualize Training History - Loss\n",
    "plt.subplot(1, 2, 2)\n",
    "plt.plot(history.history['loss'], label='Train Loss')\n",
    "plt.plot(history.history['val_loss'], label='Val Loss')\n",
    "plt.title('Loss over Epochs')\n",
    "plt.xlabel('Epoch')\n",
    "plt.ylabel('Loss')\n",
    "plt.legend()\n",
    "plt.tight_layout()\n",
    "plt.show()"
   ]
  },
  {
   "cell_type": "markdown",
   "metadata": {},
   "source": [
    "This cell is used to plot the training and validation loss values over the epochs during model training. This helps track how well the model is minimizing the loss function (categorical cross-entropy in this case).\n",
    "\n",
    "history.history['loss']: This contains the loss values for the training set during each epoch.\n",
    "\n",
    "history.history['val_loss']: This contains the loss values for the validation set during each epoch.\n",
    "\n",
    "plt.plot(): This function is used to plot these loss values for both the training and validation sets over the epochs.\n",
    "\n",
    "plt.legend(): Displays the legend to differentiate between the two loss curves.\n",
    "\n",
    "Why this is important: Training vs. Validation Loss: By comparing training and validation loss, we can assess if the model is effectively learning or overfitting. A good model should show decreasing loss for both training and validation.\n",
    "\n",
    "Loss Trends: If the training loss keeps decreasing while the validation loss starts increasing, it may indicate overfitting. This is a critical sign that adjustments to the model or training parameters might be needed.\n",
    "\n",
    "NOTE BOARD:\n",
    "\n",
    "\"In this step, I visualize the loss for both training and validation datasets over multiple epochs. Observing the loss helps me track how well the model is minimizing the error. A decrease in both training and validation loss indicates that the model is learning effectively. If the validation loss starts to increase while the training loss continues to decrease, it might be a sign of overfitting.\""
   ]
  },
  {
   "cell_type": "code",
   "execution_count": 18,
   "metadata": {},
   "outputs": [
    {
     "name": "stdout",
     "output_type": "stream",
     "text": [
      "\u001b[1m313/313\u001b[0m \u001b[32m━━━━━━━━━━━━━━━━━━━━\u001b[0m\u001b[37m\u001b[0m \u001b[1m1s\u001b[0m 2ms/step\n"
     ]
    }
   ],
   "source": [
    "# Step 16: Confusion Matrix\n",
    "# Get predictions on the test set\n",
    "pred_labels = model.predict(img_test).argmax(axis=1)  # Ensure pred_labels is defined here\n",
    "true_labels = test_labels"
   ]
  },
  {
   "cell_type": "markdown",
   "metadata": {},
   "source": [
    "This cell performs two crucial steps to assess the performance of the model:\n",
    "\n",
    "Predictions (pred_labels):\n",
    "\n",
    "model.predict(img_test) generates the raw predicted probabilities for each class (digits 0-9).\n",
    "\n",
    ".argmax(axis=1) selects the index of the highest predicted value for each test image, which corresponds to the predicted class.\n",
    "\n",
    "True Labels (true_labels):\n",
    "\n",
    "The actual labels from the test set (test_labels) are used for comparison against the predictions.\n",
    "\n",
    "Why this is important: Confusion Matrix: The predictions (pred_labels) and true labels (true_labels) are required to generate the confusion matrix in the following step. The confusion matrix provides insights into which digits are being misclassified and how often, giving you a better understanding of the model’s performance for each individual class (digit).\n",
    "\n",
    "NOTE BOARD:\n",
    "\n",
    "\"In this step, I generate predictions on the test dataset and compare them with the true labels. The argmax function ensures we extract the predicted class with the highest probability for each test sample. These predictions will be used to construct the confusion matrix, which allows me to evaluate how well the model classifies each digit.\""
   ]
  },
  {
   "cell_type": "code",
   "execution_count": 19,
   "metadata": {},
   "outputs": [],
   "source": [
    "# Step 17: Create confusion matrix\n",
    "conf_matrix = confusion_matrix(true_labels, pred_labels)"
   ]
  },
  {
   "cell_type": "markdown",
   "metadata": {},
   "source": [
    "This step calculates the confusion matrix by comparing the true_labels (actual labels) with pred_labels (predicted labels).\n",
    "\n",
    "Confusion Matrix:\n",
    "\n",
    "The confusion matrix is a table that describes the performance of the classification model.\n",
    "\n",
    "It shows the counts of true positives, false positives, true negatives, and false negatives for each class (in this case, digits 0-9).\n",
    "\n",
    "Why this is important: The confusion matrix gives a detailed view of model performance by showing which classes (digits) are being misclassified.\n",
    "\n",
    "This allows for more targeted improvements, such as identifying whether the model struggles with specific digits (e.g., misclassifying 3 as 5).\n",
    "\n",
    "NOTE BOARD:\n",
    "\n",
    "\"In this step, I generate the confusion matrix, which compares the model's predictions (pred_labels) to the true labels (true_labels). The matrix will help me analyze which digits the model is misclassifying, allowing me to understand its strengths and weaknesses more clearly.\""
   ]
  },
  {
   "cell_type": "code",
   "execution_count": 20,
   "metadata": {},
   "outputs": [
    {
     "data": {
      "image/png": "[encoded data removed]",
      "text/plain": [
       "<Figure size 1000x800 with 2 Axes>"
      ]
     },
     "metadata": {},
     "output_type": "display_data"
    }
   ],
   "source": [
    "# Step 18: Plot confusion matrix\n",
    "plt.figure(figsize=(10, 8))\n",
    "sns.heatmap(conf_matrix, annot=True, fmt='d', cmap='Blues')\n",
    "plt.title('Confusion Matrix on Test Set')\n",
    "plt.xlabel('Predicted')\n",
    "plt.ylabel('Actual')\n",
    "plt.show()"
   ]
  },
  {
   "cell_type": "markdown",
   "metadata": {},
   "source": [
    "This step visualizes the confusion matrix using a heatmap, which is generated by seaborn.heatmap(). The matrix itself shows the count of predicted vs actual labels.\n",
    "\n",
    "Confusion Matrix Heatmap:\n",
    "\n",
    "sns.heatmap() is used to display the confusion matrix in a color-coded grid.\n",
    "\n",
    "annot=True ensures that the numerical values are displayed inside the grid cells.\n",
    "\n",
    "fmt='d' formats the annotation to show integers (since it's a count).\n",
    "\n",
    "cmap='Blues' uses a blue color palette for better visual differentiation.\n",
    "\n",
    "Why this is important: Visualizing the confusion matrix helps identify patterns of misclassification more clearly.\n",
    "\n",
    "By color-coding, it becomes easier to identify which digits the model confuses with others, especially if misclassifications are clustered.\n",
    "\n",
    "NOTE BOARD:\n",
    "\n",
    "\"In this step, I visualize the confusion matrix using a heatmap, where darker blue shades represent higher counts. This gives a clearer visual understanding of how well the model classifies each digit, highlighting areas where the model performs well and where it struggles.\""
   ]
  },
  {
   "cell_type": "code",
   "execution_count": 21,
   "metadata": {},
   "outputs": [],
   "source": [
    "# Step 19: Visualize a few misclassified images\n",
    "wrong_indices = np.where(pred_labels != true_labels)[0][:10]  # Find misclassified images"
   ]
  },
  {
   "cell_type": "markdown",
   "metadata": {},
   "source": [
    "This line of code identifies misclassified images. It uses np.where() to find the indices where the predicted labels (pred_labels) are not equal to the true labels (true_labels).\n",
    "\n",
    "np.where(pred_labels != true_labels) returns an array of indices where the model made an incorrect prediction.\n",
    "\n",
    "[0][:10] slices this array to get the first 10 misclassified indices.\n",
    "\n",
    "Why this is important: Visualizing misclassified images allows you to inspect how the model is making mistakes.\n",
    "\n",
    "Helps in diagnosing specific types of errors, like misclassifying 3s as 5s, or 8s as 9s.\n",
    "\n",
    "You can check if the model is struggling with certain patterns in the data, leading to insights for potential improvements.\n",
    "\n",
    "NOTE BOARD:\n",
    "\n",
    "\"In this step, I identify and display the first 10 images where the model's predictions did not match the true labels. This allows me to inspect where the model is making mistakes, which is essential for evaluating and refining model performance. By visualizing the errors, I can understand if the model is consistently confusing certain digits.\""
   ]
  },
  {
   "cell_type": "code",
   "execution_count": 22,
   "metadata": {},
   "outputs": [
    {
     "data": {
      "image/png": "[encoded data removed]",
      "text/plain": [
       "<Figure size 1000x500 with 10 Axes>"
      ]
     },
     "metadata": {},
     "output_type": "display_data"
    }
   ],
   "source": [
    "# Step 20: Create a plot for misclassified images\n",
    "plt.figure(figsize=(10, 5))\n",
    "for i, idx in enumerate(wrong_indices):\n",
    "    plt.subplot(2, 5, i + 1)\n",
    "    plt.imshow(test_images[idx].reshape(28, 28), cmap='gray')\n",
    "    plt.title(f\"True: {true_labels[idx]}, Pred: {pred_labels[idx]}\")\n",
    "    plt.axis('off')\n",
    "\n",
    "plt.tight_layout()\n",
    "plt.suptitle(\"Misclassified Images\", fontsize=16)\n",
    "plt.show()"
   ]
  },
  {
   "cell_type": "markdown",
   "metadata": {},
   "source": [
    "This section of code displays the misclassified images along with the true and predicted labels.\n",
    "\n",
    "plt.subplot(2, 5, i + 1) sets up a grid of 2 rows and 5 columns for plotting.\n",
    "\n",
    "plt.imshow(test_images[idx].reshape(28, 28), cmap='gray') plots each image from the wrong_indices list.\n",
    "\n",
    "plt.title(f\"True: {true_labels[idx]}, Pred: {pred_labels[idx]}\") shows both the true and predicted labels as the title for each image.\n",
    "\n",
    "plt.axis('off') removes the axis ticks for a cleaner presentation.\n",
    "\n",
    "Why this is important: Visualizing misclassified images helps to directly assess the areas where the model is making incorrect predictions.\n",
    "\n",
    "It gives a clear picture of which images the model struggles with, such as difficult digits or poorly aligned handwriting.\n",
    "\n",
    "NOTE BOARD:\n",
    "\"This step visualizes the first 10 misclassified images by showing both the true label and the model’s predicted label. By inspecting these misclassified images, I can visually identify the areas where the model's performance can be improved. This type of analysis helps in understanding model behavior and informs future improvements.\""
   ]
  },
  {
   "cell_type": "code",
   "execution_count": 23,
   "metadata": {},
   "outputs": [
    {
     "name": "stdout",
     "output_type": "stream",
     "text": [
      "\u001b[1m1/1\u001b[0m \u001b[32m━━━━━━━━━━━━━━━━━━━━\u001b[0m\u001b[37m\u001b[0m \u001b[1m0s\u001b[0m 201ms/step\n",
      "Predictions: [7 2 1 0 4 1 4 9 5 9 0 6 9 0 1 5 9 7 3 4]\n",
      "Ground Truth: [7 2 1 0 4 1 4 9 5 9 0 6 9 0 1 5 9 7 3 4]\n"
     ]
    }
   ],
   "source": [
    "# Step 21: Predict and Compare First 20 Digits\n",
    "sample_preds = model.predict(img_test[:20]).argmax(axis=1)\n",
    "print(\"Predictions:\", sample_preds)\n",
    "print(\"Ground Truth:\", test_labels[:20])"
   ]
  },
  {
   "cell_type": "markdown",
   "metadata": {},
   "source": [
    "This step predicts the labels of the first 20 test images and compares them with the actual ground truth.\n",
    "\n",
    "model.predict(img_test[:20]) generates predictions for the first 20 images from the test set.\n",
    "\n",
    ".argmax(axis=1) converts the predicted class probabilities into class labels (the index of the maximum probability).\n",
    "\n",
    "print(\"Predictions:\", sample_preds) displays the predicted labels for the first 20 test images.\n",
    "\n",
    "print(\"Ground Truth:\", test_labels[:20]) displays the actual labels for these images to allow a comparison.\n",
    "\n",
    "Why this is important: This allows a quick check on how well the model is performing on some of the test data.\n",
    "\n",
    "By comparing the predicted labels with the actual ones, we can get a sense of how well the model is generalizing to new, unseen data.\n",
    "\n",
    "NOTE BOARD:\n",
    "\n",
    "\"In this step, I predicted the labels for the first 20 test images and compared the model’s predictions with the ground truth. This step serves as a quick check to assess the accuracy and effectiveness of the trained model on unseen data. By inspecting both predicted and true labels, I can ensure that the model is correctly identifying the digits.\""
   ]
  },
  {
   "cell_type": "markdown",
   "metadata": {},
   "source": [
    "SUMMARY\n",
    "This step allows you to predict and compare the model's performance on the first 20 test samples, which provides a simple validation of how well the model is doing after training.\n",
    "\n",
    "Here's a quick recap of the steps we've gone through:\n",
    "\n",
    "Loading Libraries: Necessary Python libraries and TensorFlow/Keras modules.\n",
    "\n",
    "Loading and Preprocessing Data: Preparing the MNIST dataset, normalizing, reshaping, and splitting it.\n",
    "\n",
    "Building the Model: Setting up the CNN architecture, compiling it, and defining the training parameters.\n",
    "\n",
    "Training the Model: Training the model with the training set and validating it on the validation set.\n",
    "\n",
    "Evaluating the Model: Evaluating test accuracy and loss, and visualizing performance over epochs.\n",
    "\n",
    "Visualizing Misclassifications: Using confusion matrices and misclassified images to analyze the model's mistakes.\n",
    "\n",
    "Prediction and Ground Truth Comparison: Finally, comparing the predictions on test data with actual labels.\n",
    "\n",
    "Conclusion: Step 21 is indeed the last step, and it provides a final validation of the model by showcasing its performance on a subset of the test set. This allows you to visually confirm how accurate the model is and whether it is successfully identifying the digits."
   ]
  }
 ],
 "metadata": {
  "kernelspec": {
   "display_name": "venv",
   "language": "python",
   "name": "python3"
  },
  "language_info": {
   "codemirror_mode": {
    "name": "ipython",
    "version": 3
   },
   "file_extension": ".py",
   "mimetype": "text/x-python",
   "name": "python",
   "nbconvert_exporter": "python",
   "pygments_lexer": "ipython3",
   "version": "3.11.9"
  }
 },
 "nbformat": 4,
 "nbformat_minor": 2
}
